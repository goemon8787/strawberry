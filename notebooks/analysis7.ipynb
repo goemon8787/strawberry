{
 "cells": [
  {
   "cell_type": "markdown",
   "metadata": {},
   "source": [
    "# シミュレーション実験\n",
    "move_daysをシミュレーション時にのみ考慮"
   ]
  },
  {
   "cell_type": "markdown",
   "metadata": {},
   "source": [
    "## 前処理(予測まで)"
   ]
  },
  {
   "cell_type": "code",
   "execution_count": 1,
   "metadata": {},
   "outputs": [],
   "source": [
    "import pandas as pd\n",
    "import numpy as np\n",
    "import seaborn as sns\n",
    "from sklearn.preprocessing import StandardScaler, MinMaxScaler\n",
    "from sklearn.metrics import mean_squared_error\n",
    "import matplotlib.pyplot as plt\n",
    "from sklearn.model_selection import train_test_split\n",
    "import japanize_matplotlib\n",
    "from sklearn.metrics import accuracy_score\n",
    "import lightgbm as lgb"
   ]
  },
  {
   "cell_type": "code",
   "execution_count": 2,
   "metadata": {},
   "outputs": [],
   "source": [
    "def root_mean_squared_error(y_pred, y_test):\n",
    "    return mean_squared_error(y_pred, y_test)**(1/2)"
   ]
  },
  {
   "cell_type": "code",
   "execution_count": 3,
   "metadata": {},
   "outputs": [],
   "source": [
    "df_raw = pd.read_csv(\"../data/kk.csv\")\n",
    "# 全体のみを利用(産地名NaN)\n",
    "is_nan = [df_raw[\"産地名\"][i] is df_raw[\"産地名\"][0] for i in range(df_raw.shape[0])]\n",
    "df = df_raw[is_nan].copy()\n",
    "del_columns = [\"産地名\", \"産地コード\", \"品目名\", \"品目コード\", \"対前日比（数量）\", \"対前日比（価格）\"]\n",
    "df = df.drop(del_columns, axis=1).copy()\n"
   ]
  },
  {
   "cell_type": "code",
   "execution_count": 4,
   "metadata": {},
   "outputs": [],
   "source": [
    "# 曜日の処理\n",
    "dow = [\"月\", \"火\", \"水\", \"木\", \"金\", \"土\", \"日\"]\n",
    "df[\"曜日\"] = [dow.index(dw) for dw in df[\"曜日\"]]\n"
   ]
  },
  {
   "cell_type": "code",
   "execution_count": 5,
   "metadata": {},
   "outputs": [],
   "source": [
    "# 日にちの処理\n",
    "# timestamp型 → timedelta\n",
    "# date_columns = [\"年\", \"月\", \"日\"]\n",
    "date = [str(df[\"年\"].iloc[i])+\"-\"+str(df[\"月\"].iloc[i])+\"-\" +\n",
    "        str(df[\"日\"].iloc[i]) for i in range(df.shape[0])]\n",
    "df[\"date\"] = pd.to_datetime(date)\n",
    "# df = df.drop(date_columns, axis=1).copy()\n",
    "df[\"days\"] = [(date - df[\"date\"][0]).days for date in df[\"date\"]]\n",
    "df = df.drop(\"date\", axis=1).copy()\n"
   ]
  },
  {
   "cell_type": "code",
   "execution_count": 6,
   "metadata": {},
   "outputs": [],
   "source": [
    "# 特異日 (天皇即位)\n",
    "outlier = df[df[\"価格\"].max() == df[\"価格\"]].index \n",
    "# df = df.drop(outlier, axis=0).copy()"
   ]
  },
  {
   "cell_type": "code",
   "execution_count": 7,
   "metadata": {},
   "outputs": [],
   "source": [
    "# 数量で重み付け\n",
    "def ma_weighted(price, df):\n",
    "    \"\"\"\n",
    "    Args:\n",
    "        price (df.rolling): df.rolling.apply()を想定した価格列\n",
    "        df: 重み列を取るための元df\n",
    "    return:\n",
    "        ma_w = 数量加重移動平均\n",
    "    \"\"\"\n",
    "\n",
    "    df_price = df.loc[price.index, '価格']\n",
    "    df_num = df.loc[price.index, '数量']\n",
    "    \n",
    "    ma_w = 0\n",
    "    for p, n in zip(df_price, df_num):\n",
    "        ma_w += n * p/df_num.sum()\n",
    "\n",
    "    return ma_w\n"
   ]
  },
  {
   "cell_type": "code",
   "execution_count": 8,
   "metadata": {},
   "outputs": [],
   "source": [
    "ma_w3 = df[\"価格\"].rolling(3).apply(ma_weighted, args=(df,), raw=False)\n",
    "ma_w5 = df[\"価格\"].rolling(5).apply(ma_weighted, args=(df,), raw=False)\n",
    "ma_w7 = df[\"価格\"].rolling(7).apply(ma_weighted, args=(df,), raw=False)\n"
   ]
  },
  {
   "cell_type": "code",
   "execution_count": 9,
   "metadata": {},
   "outputs": [],
   "source": [
    "# train-test-split\n",
    "# 7年分をtrain，3年分をtest(index 9426以上)\n",
    "start_test_idx = 9426\n",
    "ma_w5 = ma_w5.dropna()\n",
    "df_train = ma_w5[ma_w5.index < start_test_idx].copy()\n",
    "df_test = ma_w5[ma_w5.index >= start_test_idx].copy()\n"
   ]
  },
  {
   "cell_type": "code",
   "execution_count": 10,
   "metadata": {},
   "outputs": [],
   "source": [
    "date_train_raw = df.loc[df_train.index, [\"年\", \"月\", \"日\", \"曜日\"]].copy()\n",
    "date_test_raw = df.loc[df_test.index, [\"年\", \"月\", \"日\", \"曜日\"]].copy()"
   ]
  },
  {
   "cell_type": "code",
   "execution_count": 11,
   "metadata": {},
   "outputs": [],
   "source": [
    "# 学習データ作成\n",
    "# data = [4日後予測訓練データ, 5日後予測訓練データ, ..., 10日後予測訓練データ]\n",
    "\n",
    "# 入力データから予測対象日までの最短日数 = 輸送日数 + [1,2,3,4,5,6,7,...]\n",
    "span = 10   # 何日分予測するか\n",
    "n_input = 7 # 何日分入力するか\n",
    "# move_days = 3 # 輸送日数\n",
    "data = []\n",
    "for sp in range(span):\n",
    "\n",
    "    sp = sp + 1 # 予測日は最低move_days+1日後\n",
    "\n",
    "    n_train = df_train.shape[0] - (n_input - 1)  - sp\n",
    "\n",
    "    X_train_idx = [np.arange(n_input) + i for i in range(n_train)]\n",
    "    y_train_idx = [(n_input - 1)  + sp + i for i in range(n_train)]\n",
    "\n",
    "    date_train_idx = [i + (n_input - 1) for i in range(n_train)]\n",
    "\n",
    "    n_test = df_test.shape[0] - (n_input - 1)  - sp\n",
    "    \n",
    "    X_test_idx = [np.arange(n_input) + i for i in range(n_test)]\n",
    "    y_test_idx = [(n_input - 1)  + sp + i for i in range(n_test)]\n",
    "\n",
    "    date_test_idx = [i + (n_input - 1) for i in range(n_test)]\n",
    "\n",
    "    X_train = np.array([df_train.iloc[xt_i].values for xt_i in X_train_idx])\n",
    "\n",
    "    y_train = np.array([df_train.iloc[yt_i] for yt_i in y_train_idx])\n",
    "\n",
    "    X_test = np.array([df_test.iloc[xt_i].values for xt_i in X_test_idx])\n",
    "    y_test = np.array([df_test.iloc[yt_i] for yt_i in y_test_idx])\n",
    "\n",
    "    X_train = pd.DataFrame(X_train, columns=np.arange(n_input))\n",
    "    X_test = pd.DataFrame(X_test, columns=np.arange(n_input))\n",
    "    y_train = pd.Series(y_train)\n",
    "    y_test = pd.Series(y_test)\n",
    "\n",
    "    date_train = date_train_raw.iloc[date_train_idx].reset_index(drop=True)\n",
    "    date_test = date_test_raw.iloc[date_test_idx].reset_index(drop=True)\n",
    "\n",
    "    X_train = pd.concat([X_train, date_train], axis=1)\n",
    "    X_test = pd.concat([X_test, date_test], axis=1)\n",
    "\n",
    "    data.append((X_train, X_test, y_train, y_test))"
   ]
  },
  {
   "cell_type": "code",
   "execution_count": 12,
   "metadata": {},
   "outputs": [
    {
     "name": "stdout",
     "output_type": "stream",
     "text": [
      "86.3660628060243\n",
      "0.014702976436834556\n",
      "108.6483106441697\n",
      "0.024029336856528444\n",
      "130.8141249833999\n",
      "0.03227978469602585\n",
      "152.87335371530077\n",
      "0.04265687606131471\n",
      "167.42563249986372\n",
      "0.04898505031284628\n",
      "178.33708145843627\n",
      "0.056432169833098976\n",
      "187.275739116027\n",
      "0.06050149909514425\n",
      "192.52051982586158\n",
      "0.06181689322490505\n",
      "198.87448514492291\n",
      "0.06552261407165835\n",
      "208.60556557978728\n",
      "0.06955631357819869\n"
     ]
    }
   ],
   "source": [
    "# y_preds = [4日後予測データ, 5日後予測データ, ..., 10日後予測データ]\n",
    "y_preds = []\n",
    "for i in range(data.__len__()):\n",
    "    X_train, X_test, y_train, y_test = data[i][0], data[i][1], data[i][2], data[i][3]\n",
    "\n",
    "    model = lgb.LGBMRegressor(random_state=42)\n",
    "    model.fit(X_train, y_train)\n",
    "    y_pred = model.predict(X_test)\n",
    "\n",
    "    score = root_mean_squared_error(y_pred, y_test)\n",
    "    print(score)\n",
    "\n",
    "    ape = sum(abs((y_test-y_pred)/y_test))\n",
    "    mape = ape/y_test.shape[0]\n",
    "    print(mape)\n",
    "\n",
    "    y_preds.append(y_pred)"
   ]
  },
  {
   "cell_type": "code",
   "execution_count": 13,
   "metadata": {},
   "outputs": [],
   "source": [
    "# 予測データ数を揃える\n",
    "y_preds_min_len = min(list(map(len, y_preds)))\n",
    "y_preds_fix = []\n",
    "for p in y_preds:\n",
    "    y_preds_fix.append(p[:y_preds_min_len])\n",
    "\n",
    "data_fix = []\n",
    "for d in data:\n",
    "    X_train_fix = d[0].iloc[:y_preds_min_len]\n",
    "    X_test_fix = d[1].iloc[:y_preds_min_len]\n",
    "    y_train_fix = d[2].iloc[:y_preds_min_len]\n",
    "    y_test_fix = d[3].iloc[:y_preds_min_len]\n",
    "    data_fix.append((X_train_fix, X_test_fix, y_train_fix, y_test_fix))"
   ]
  },
  {
   "cell_type": "code",
   "execution_count": 14,
   "metadata": {},
   "outputs": [],
   "source": [
    "# y_preds_fix = np.array(y_preds_fix).T"
   ]
  },
  {
   "cell_type": "code",
   "execution_count": 15,
   "metadata": {},
   "outputs": [],
   "source": [
    "# y_preds_max = [np.argmax(ypf) for ypf in y_preds_fix]"
   ]
  },
  {
   "cell_type": "code",
   "execution_count": 16,
   "metadata": {},
   "outputs": [],
   "source": [
    "# y_tests_fix = np.array([data[0][3][i:i+7].values for i in range(data[0][3].__len__()-6)])"
   ]
  },
  {
   "cell_type": "code",
   "execution_count": 17,
   "metadata": {},
   "outputs": [],
   "source": [
    "# y_tests_max = [np.argmax(ytf) for ytf in y_tests_fix]"
   ]
  },
  {
   "cell_type": "code",
   "execution_count": 18,
   "metadata": {},
   "outputs": [],
   "source": [
    "# 移動平均とサイズを合わせるために最初4日分をドロップ\n",
    "df_for_compare = df[\"価格\"].iloc[4:]\n",
    "\n",
    "df_c_train = df_for_compare[df_for_compare.index < start_test_idx].copy()\n",
    "df_c_test = df_for_compare[df_for_compare.index >= start_test_idx].copy()\n",
    "\n",
    "date_c_train_raw = df.loc[df_c_train.index, [\"年\", \"月\", \"日\", \"曜日\"]].copy()\n",
    "date_c_test_raw = df.loc[df_c_test.index, [\"年\", \"月\", \"日\", \"曜日\"]].copy()\n",
    "\n",
    "data_c = []\n",
    "for sp in range(span):\n",
    "\n",
    "    sp = sp + 1 # 予測日は最低move_days+1日後\n",
    "\n",
    "    n_c_train = df_c_train.shape[0] - (n_input - 1)  - sp\n",
    "    \n",
    "    X_c_train_idx = [np.arange(n_input) + i for i in range(n_c_train)]\n",
    "    y_c_train_idx = [(n_input - 1) + sp + i for i in range(n_c_train)]\n",
    "\n",
    "    date_c_train_idx = [i + (n_input - 1) for i in range(n_c_train)]\n",
    "\n",
    "    n_c_test = df_c_test.shape[0] - (n_input - 1) - sp\n",
    "    \n",
    "    X_c_test_idx = [np.arange(n_input) + i for i in range(n_c_test)]\n",
    "    y_c_test_idx = [(n_input - 1)  + sp + i for i in range(n_c_test)]\n",
    "\n",
    "    date_c_test_idx = [i + (n_input - 1) for i in range(n_c_test)]\n",
    "\n",
    "    X_c_train = np.array([df_c_train.iloc[xt_i].values for xt_i in X_c_train_idx])\n",
    "\n",
    "    y_c_train = np.array([df_c_train.iloc[yt_i] for yt_i in y_c_train_idx])\n",
    "\n",
    "    X_c_test = np.array([df_c_test.iloc[xt_i].values for xt_i in X_c_test_idx])\n",
    "    y_c_test = np.array([df_c_test.iloc[yt_i] for yt_i in y_c_test_idx])\n",
    "\n",
    "    X_c_train = pd.DataFrame(X_c_train, columns=np.arange(n_input))\n",
    "    X_c_test = pd.DataFrame(X_c_test, columns=np.arange(n_input))\n",
    "    y_c_train = pd.Series(y_c_train)\n",
    "    y_c_test = pd.Series(y_c_test)\n",
    "\n",
    "    date_c_train = date_c_train_raw.iloc[date_c_train_idx].reset_index(drop=True)\n",
    "    date_c_test = date_c_test_raw.iloc[date_c_test_idx].reset_index(drop=True)\n",
    "\n",
    "    X_c_train = pd.concat([X_c_train, date_c_train], axis=1)\n",
    "    X_c_test = pd.concat([X_c_test, date_c_test], axis=1)\n",
    "\n",
    "    data_c.append((X_c_train, X_c_test, y_c_train, y_c_test))"
   ]
  },
  {
   "cell_type": "code",
   "execution_count": 19,
   "metadata": {},
   "outputs": [],
   "source": [
    "data_c_fix = []\n",
    "for d in data_c:\n",
    "    X_c_train_fix = d[0].iloc[:y_preds_min_len]\n",
    "    X_c_test_fix = d[1].iloc[:y_preds_min_len]\n",
    "    y_c_train_fix = d[2].iloc[:y_preds_min_len]\n",
    "    y_c_test_fix = d[3].iloc[:y_preds_min_len]\n",
    "    data_c_fix.append((X_c_train_fix, X_c_test_fix, y_c_train_fix, y_c_test_fix))"
   ]
  },
  {
   "cell_type": "code",
   "execution_count": 20,
   "metadata": {},
   "outputs": [],
   "source": [
    "y_test_fix = [dtf[3] for dtf in data_fix]"
   ]
  },
  {
   "cell_type": "code",
   "execution_count": 21,
   "metadata": {},
   "outputs": [],
   "source": [
    "y_c_test_fix = [dcf[3] for dcf in data_c_fix]"
   ]
  },
  {
   "cell_type": "markdown",
   "metadata": {},
   "source": [
    "## 収穫量データの読み込み"
   ]
  },
  {
   "cell_type": "code",
   "execution_count": 22,
   "metadata": {},
   "outputs": [],
   "source": [
    "harvest_df_raw = pd.read_csv(\"../data/harvest.csv\", index_col=0)"
   ]
  },
  {
   "cell_type": "code",
   "execution_count": 23,
   "metadata": {},
   "outputs": [
    {
     "data": {
      "text/html": [
       "<div>\n",
       "<style scoped>\n",
       "    .dataframe tbody tr th:only-of-type {\n",
       "        vertical-align: middle;\n",
       "    }\n",
       "\n",
       "    .dataframe tbody tr th {\n",
       "        vertical-align: top;\n",
       "    }\n",
       "\n",
       "    .dataframe thead th {\n",
       "        text-align: right;\n",
       "    }\n",
       "</style>\n",
       "<table border=\"1\" class=\"dataframe\">\n",
       "  <thead>\n",
       "    <tr style=\"text-align: right;\">\n",
       "      <th></th>\n",
       "      <th>month</th>\n",
       "      <th>day</th>\n",
       "      <th>h0</th>\n",
       "      <th>h1</th>\n",
       "    </tr>\n",
       "  </thead>\n",
       "  <tbody>\n",
       "    <tr>\n",
       "      <th>0</th>\n",
       "      <td>11</td>\n",
       "      <td>29</td>\n",
       "      <td>0</td>\n",
       "      <td>71</td>\n",
       "    </tr>\n",
       "    <tr>\n",
       "      <th>1</th>\n",
       "      <td>12</td>\n",
       "      <td>6</td>\n",
       "      <td>3</td>\n",
       "      <td>157</td>\n",
       "    </tr>\n",
       "    <tr>\n",
       "      <th>2</th>\n",
       "      <td>12</td>\n",
       "      <td>13</td>\n",
       "      <td>145</td>\n",
       "      <td>501</td>\n",
       "    </tr>\n",
       "    <tr>\n",
       "      <th>3</th>\n",
       "      <td>12</td>\n",
       "      <td>20</td>\n",
       "      <td>139</td>\n",
       "      <td>445</td>\n",
       "    </tr>\n",
       "    <tr>\n",
       "      <th>4</th>\n",
       "      <td>12</td>\n",
       "      <td>27</td>\n",
       "      <td>596</td>\n",
       "      <td>347</td>\n",
       "    </tr>\n",
       "    <tr>\n",
       "      <th>5</th>\n",
       "      <td>1</td>\n",
       "      <td>3</td>\n",
       "      <td>451</td>\n",
       "      <td>609</td>\n",
       "    </tr>\n",
       "    <tr>\n",
       "      <th>6</th>\n",
       "      <td>1</td>\n",
       "      <td>10</td>\n",
       "      <td>574</td>\n",
       "      <td>314</td>\n",
       "    </tr>\n",
       "    <tr>\n",
       "      <th>7</th>\n",
       "      <td>1</td>\n",
       "      <td>17</td>\n",
       "      <td>637</td>\n",
       "      <td>809</td>\n",
       "    </tr>\n",
       "    <tr>\n",
       "      <th>8</th>\n",
       "      <td>1</td>\n",
       "      <td>24</td>\n",
       "      <td>661</td>\n",
       "      <td>587</td>\n",
       "    </tr>\n",
       "    <tr>\n",
       "      <th>9</th>\n",
       "      <td>1</td>\n",
       "      <td>31</td>\n",
       "      <td>654</td>\n",
       "      <td>817</td>\n",
       "    </tr>\n",
       "    <tr>\n",
       "      <th>10</th>\n",
       "      <td>2</td>\n",
       "      <td>7</td>\n",
       "      <td>677</td>\n",
       "      <td>513</td>\n",
       "    </tr>\n",
       "    <tr>\n",
       "      <th>11</th>\n",
       "      <td>2</td>\n",
       "      <td>14</td>\n",
       "      <td>850</td>\n",
       "      <td>295</td>\n",
       "    </tr>\n",
       "    <tr>\n",
       "      <th>12</th>\n",
       "      <td>2</td>\n",
       "      <td>21</td>\n",
       "      <td>603</td>\n",
       "      <td>433</td>\n",
       "    </tr>\n",
       "    <tr>\n",
       "      <th>13</th>\n",
       "      <td>2</td>\n",
       "      <td>28</td>\n",
       "      <td>324</td>\n",
       "      <td>557</td>\n",
       "    </tr>\n",
       "    <tr>\n",
       "      <th>14</th>\n",
       "      <td>3</td>\n",
       "      <td>7</td>\n",
       "      <td>666</td>\n",
       "      <td>421</td>\n",
       "    </tr>\n",
       "    <tr>\n",
       "      <th>15</th>\n",
       "      <td>3</td>\n",
       "      <td>14</td>\n",
       "      <td>609</td>\n",
       "      <td>552</td>\n",
       "    </tr>\n",
       "    <tr>\n",
       "      <th>16</th>\n",
       "      <td>3</td>\n",
       "      <td>21</td>\n",
       "      <td>409</td>\n",
       "      <td>379</td>\n",
       "    </tr>\n",
       "    <tr>\n",
       "      <th>17</th>\n",
       "      <td>3</td>\n",
       "      <td>28</td>\n",
       "      <td>351</td>\n",
       "      <td>559</td>\n",
       "    </tr>\n",
       "    <tr>\n",
       "      <th>18</th>\n",
       "      <td>4</td>\n",
       "      <td>4</td>\n",
       "      <td>474</td>\n",
       "      <td>260</td>\n",
       "    </tr>\n",
       "    <tr>\n",
       "      <th>19</th>\n",
       "      <td>4</td>\n",
       "      <td>11</td>\n",
       "      <td>239</td>\n",
       "      <td>702</td>\n",
       "    </tr>\n",
       "    <tr>\n",
       "      <th>20</th>\n",
       "      <td>4</td>\n",
       "      <td>18</td>\n",
       "      <td>680</td>\n",
       "      <td>612</td>\n",
       "    </tr>\n",
       "    <tr>\n",
       "      <th>21</th>\n",
       "      <td>4</td>\n",
       "      <td>25</td>\n",
       "      <td>801</td>\n",
       "      <td>513</td>\n",
       "    </tr>\n",
       "    <tr>\n",
       "      <th>22</th>\n",
       "      <td>5</td>\n",
       "      <td>2</td>\n",
       "      <td>580</td>\n",
       "      <td>430</td>\n",
       "    </tr>\n",
       "    <tr>\n",
       "      <th>23</th>\n",
       "      <td>5</td>\n",
       "      <td>9</td>\n",
       "      <td>574</td>\n",
       "      <td>627</td>\n",
       "    </tr>\n",
       "    <tr>\n",
       "      <th>24</th>\n",
       "      <td>5</td>\n",
       "      <td>16</td>\n",
       "      <td>290</td>\n",
       "      <td>877</td>\n",
       "    </tr>\n",
       "    <tr>\n",
       "      <th>25</th>\n",
       "      <td>5</td>\n",
       "      <td>23</td>\n",
       "      <td>881</td>\n",
       "      <td>687</td>\n",
       "    </tr>\n",
       "    <tr>\n",
       "      <th>26</th>\n",
       "      <td>5</td>\n",
       "      <td>30</td>\n",
       "      <td>587</td>\n",
       "      <td>540</td>\n",
       "    </tr>\n",
       "    <tr>\n",
       "      <th>27</th>\n",
       "      <td>6</td>\n",
       "      <td>6</td>\n",
       "      <td>744</td>\n",
       "      <td>285</td>\n",
       "    </tr>\n",
       "    <tr>\n",
       "      <th>28</th>\n",
       "      <td>6</td>\n",
       "      <td>13</td>\n",
       "      <td>283</td>\n",
       "      <td>134</td>\n",
       "    </tr>\n",
       "    <tr>\n",
       "      <th>29</th>\n",
       "      <td>6</td>\n",
       "      <td>20</td>\n",
       "      <td>288</td>\n",
       "      <td>0</td>\n",
       "    </tr>\n",
       "  </tbody>\n",
       "</table>\n",
       "</div>"
      ],
      "text/plain": [
       "    month  day   h0   h1\n",
       "0      11   29    0   71\n",
       "1      12    6    3  157\n",
       "2      12   13  145  501\n",
       "3      12   20  139  445\n",
       "4      12   27  596  347\n",
       "5       1    3  451  609\n",
       "6       1   10  574  314\n",
       "7       1   17  637  809\n",
       "8       1   24  661  587\n",
       "9       1   31  654  817\n",
       "10      2    7  677  513\n",
       "11      2   14  850  295\n",
       "12      2   21  603  433\n",
       "13      2   28  324  557\n",
       "14      3    7  666  421\n",
       "15      3   14  609  552\n",
       "16      3   21  409  379\n",
       "17      3   28  351  559\n",
       "18      4    4  474  260\n",
       "19      4   11  239  702\n",
       "20      4   18  680  612\n",
       "21      4   25  801  513\n",
       "22      5    2  580  430\n",
       "23      5    9  574  627\n",
       "24      5   16  290  877\n",
       "25      5   23  881  687\n",
       "26      5   30  587  540\n",
       "27      6    6  744  285\n",
       "28      6   13  283  134\n",
       "29      6   20  288    0"
      ]
     },
     "execution_count": 23,
     "metadata": {},
     "output_type": "execute_result"
    }
   ],
   "source": [
    "harvest_df_raw"
   ]
  },
  {
   "cell_type": "code",
   "execution_count": 24,
   "metadata": {},
   "outputs": [],
   "source": [
    "sim_start_year =  2020"
   ]
  },
  {
   "cell_type": "code",
   "execution_count": 25,
   "metadata": {},
   "outputs": [],
   "source": [
    "bools = harvest_df_raw.month > 10\n",
    "years = []\n",
    "for bool in bools:\n",
    "    years.append(sim_start_year if bool else sim_start_year+1)\n",
    "\n",
    "harvest_df_raw[\"year\"] = years\n",
    "\n",
    "date = [str(harvest_df_raw[\"year\"].iloc[i])+\"-\"+str(harvest_df_raw[\"month\"].iloc[i])+\"-\" +\n",
    "        str(harvest_df_raw[\"day\"].iloc[i]) for i in range(harvest_df_raw.shape[0])]\n",
    "\n",
    "harvest_df_raw[\"date\"] = pd.to_datetime(date)\n",
    "\n",
    "harvest_df_raw = harvest_df_raw.drop([\"month\", \"day\", \"year\"], axis=1)"
   ]
  },
  {
   "cell_type": "markdown",
   "metadata": {},
   "source": [
    "# 価格データの成形\n",
    "シミュレーションのためにテストデータ、予測結果に日時を付与"
   ]
  },
  {
   "cell_type": "markdown",
   "metadata": {},
   "source": [
    "## 入力，各モデルの出力を合わせる"
   ]
  },
  {
   "cell_type": "code",
   "execution_count": 28,
   "metadata": {},
   "outputs": [],
   "source": [
    "df_test_raw = df.loc[start_test_idx:].copy()\n",
    "# 予測のもとになった入力データの最後の日の日付\n",
    "# 最も有効データ数の多い1日後の予測をするモデルに合わせる\n",
    "datelist = pd.Series([pd.to_datetime(str(int(d[\"年\"]))+\"/\"+str(int(d[\"月\"]))+\"/\"+str(int(d[\"日\"]))) for _, d in df_test_raw.iterrows()])\n",
    "\n",
    "datelist_input = pd.Series([pd.to_datetime(str(int(d[\"年\"]))+\"/\"+str(int(d[\"月\"]))+\"/\"+str(int(d[\"日\"]))) for _, d in data[0][1].iterrows()])\n",
    "\n",
    "# 予測の際の正解データの日付\n",
    "# 最初を合わせる\n",
    "datelist_output = [datelist[(n_input-1):][n+1:] for n in range(span)]\n",
    "# 最後を合わせる\n",
    "do_len_min = min(list(map(len, datelist_output)))\n",
    "datelist_output = [do[:do_len_min] for do in datelist_output]\n",
    "\n",
    "# inputも最後を合わせる\n",
    "datelist_input = datelist_input[:do_len_min]"
   ]
  },
  {
   "cell_type": "code",
   "execution_count": 29,
   "metadata": {},
   "outputs": [],
   "source": [
    "y_preds_with_date = [pd.DataFrame({\"date\": datelist_output[i].reset_index(drop=True), \"y_pred\":pd.Series(y_preds_fix[i])}) for i in range(span)]"
   ]
  },
  {
   "cell_type": "markdown",
   "metadata": {},
   "source": [
    "## データの結合\n",
    "date_df: date0, date1,...,date7\n",
    "\n",
    "pred_df: pr0, pr1,...,pr7\n",
    "\n",
    "test_df: ts0, ts1,...,ts7"
   ]
  },
  {
   "cell_type": "code",
   "execution_count": 30,
   "metadata": {},
   "outputs": [],
   "source": [
    "date_df = pd.DataFrame({\"input_date\":datelist_input.reset_index(drop=True),\n",
    "                        \"output1\": datelist_output[0].reset_index(drop=True),\n",
    "                        \"output2\": datelist_output[1].reset_index(drop=True),\n",
    "                        \"output3\": datelist_output[2].reset_index(drop=True),\n",
    "                        \"output4\": datelist_output[3].reset_index(drop=True),\n",
    "                        \"output5\": datelist_output[4].reset_index(drop=True),\n",
    "                        \"output6\": datelist_output[5].reset_index(drop=True),\n",
    "                        \"output7\": datelist_output[6].reset_index(drop=True),\n",
    "                        \"output8\": datelist_output[7].reset_index(drop=True),\n",
    "                        \"output9\": datelist_output[8].reset_index(drop=True),\n",
    "                        \"output10\": datelist_output[9].reset_index(drop=True),\n",
    "                      })\n",
    "\n",
    "pred_df = pd.DataFrame({\"input_date\":datelist_input.reset_index(drop=True),\n",
    "                        \"output1\": y_preds_fix[0],\n",
    "                        \"output2\": y_preds_fix[1],\n",
    "                        \"output3\": y_preds_fix[2],\n",
    "                        \"output4\": y_preds_fix[3],\n",
    "                        \"output5\": y_preds_fix[4],\n",
    "                        \"output6\": y_preds_fix[5],\n",
    "                        \"output7\": y_preds_fix[6],\n",
    "                        \"output8\": y_preds_fix[7],\n",
    "                        \"output9\": y_preds_fix[8],\n",
    "                        \"output10\": y_preds_fix[9],\n",
    "                      })\n",
    "\n",
    "test_df = pd.DataFrame({\"input_date\":datelist_input.reset_index(drop=True),\n",
    "                        \"output1\": y_c_test_fix[0],\n",
    "                        \"output2\": y_c_test_fix[1],\n",
    "                        \"output3\": y_c_test_fix[2],\n",
    "                        \"output4\": y_c_test_fix[3],\n",
    "                        \"output5\": y_c_test_fix[4],\n",
    "                        \"output6\": y_c_test_fix[5],\n",
    "                        \"output7\": y_c_test_fix[6],\n",
    "                        \"output8\": y_c_test_fix[7],\n",
    "                        \"output9\": y_c_test_fix[8],\n",
    "                        \"output10\": y_c_test_fix[9],\n",
    "                      })\n",
    "\n",
    "test_m_df = pd.DataFrame({\"input_date\":datelist_input.reset_index(drop=True),\n",
    "                        \"output1\": y_test_fix[0],\n",
    "                        \"output2\": y_test_fix[1],\n",
    "                        \"output3\": y_test_fix[2],\n",
    "                        \"output4\": y_test_fix[3],\n",
    "                        \"output5\": y_test_fix[4],\n",
    "                        \"output6\": y_test_fix[5],\n",
    "                        \"output7\": y_test_fix[6],\n",
    "                        \"output8\": y_test_fix[7],\n",
    "                        \"output9\": y_test_fix[8],\n",
    "                        \"output10\": y_test_fix[9],\n",
    "                      })"
   ]
  },
  {
   "cell_type": "code",
   "execution_count": 31,
   "metadata": {},
   "outputs": [
    {
     "data": {
      "text/plain": [
       "187.12467325098132"
      ]
     },
     "execution_count": 31,
     "metadata": {},
     "output_type": "execute_result"
    }
   ],
   "source": [
    "# 端数処理の影響で若干づれるが，大方誤差予測誤差が一致 → おそらく正しく実装\n",
    "root_mean_squared_error(test_m_df[\"output7\"], pred_df[\"output7\"])"
   ]
  },
  {
   "cell_type": "code",
   "execution_count": 32,
   "metadata": {},
   "outputs": [
    {
     "data": {
      "text/plain": [
       "250.1444012312879"
      ]
     },
     "execution_count": 32,
     "metadata": {},
     "output_type": "execute_result"
    }
   ],
   "source": [
    "# 参考程度に移動平均前との誤差\n",
    "root_mean_squared_error(test_df[\"output7\"], pred_df[\"output7\"])"
   ]
  },
  {
   "cell_type": "markdown",
   "metadata": {},
   "source": [
    "## 予測日から4日以降10日以内の結果のみの抽出\n",
    "シミュレーションのため移動期間，出荷期間を考慮"
   ]
  },
  {
   "cell_type": "code",
   "execution_count": 33,
   "metadata": {},
   "outputs": [],
   "source": [
    "# bool_df = pd.DataFrame(np.array([(date_df[o_col] - date_df[\"input_date\"]).dt.days <= 10 for o_col in date_df.columns[1:]]).T, columns=test_df.columns[1:])\n",
    "bool_df1 = pd.DataFrame(np.array([(date_df[o_col] - date_df[\"input_date\"]).dt.days <= 10 for o_col in date_df.columns[1:]]).T, columns=test_df.columns[1:])\n",
    "bool_df2 = pd.DataFrame(np.array([4 <= (date_df[o_col] - date_df[\"input_date\"]).dt.days for o_col in date_df.columns[1:]]).T, columns=test_df.columns[1:])\n",
    "bool_df = bool_df1 & bool_df2\n",
    "bool_df = pd.concat([date_df[\"input_date\"], bool_df.astype(int)], axis=1)"
   ]
  },
  {
   "cell_type": "code",
   "execution_count": 34,
   "metadata": {},
   "outputs": [
    {
     "name": "stdout",
     "output_type": "stream",
     "text": [
      "5.039160839160839\n",
      "7\n",
      "2\n"
     ]
    }
   ],
   "source": [
    "# 平均4日程度から最大を予測し出荷する\n",
    "valid_day_nums = [bool_df.iloc[i][1:].sum() for i in range(bool_df.shape[0])]\n",
    "print(np.mean(valid_day_nums))\n",
    "print(np.max(valid_day_nums))\n",
    "print(np.min(valid_day_nums))"
   ]
  },
  {
   "cell_type": "code",
   "execution_count": 35,
   "metadata": {},
   "outputs": [],
   "source": [
    "valid_pred_df = pred_df.copy()\n",
    "valid_pred_df.iloc[:, 1:] = pred_df.iloc[:, 1:] * bool_df.iloc[:, 1:]\n",
    "\n",
    "valid_test_df = test_df.copy()\n",
    "valid_test_df.iloc[:, 1:] = test_df.iloc[:, 1:] * bool_df.iloc[:, 1:]\n",
    "\n",
    "# valid_date_df = date_df.copy()\n",
    "# valid_date_df.iloc[:, 1:] = date_df.iloc[:, 1:] & bool_df.iloc[:, 1:].astype(bool)"
   ]
  },
  {
   "cell_type": "markdown",
   "metadata": {},
   "source": [
    "## 理論値データの作成\n",
    "test最大に合わせて出荷"
   ]
  },
  {
   "cell_type": "code",
   "execution_count": 36,
   "metadata": {},
   "outputs": [],
   "source": [
    "# 全実験共通\n",
    "# 収穫日以降最も近い予測可能日を設定\n",
    "input_days = []\n",
    "for hd in harvest_df_raw[\"date\"]:\n",
    "    diff_days = (valid_test_df[\"input_date\"] - hd).dt.days\n",
    "    diff_days = diff_days[diff_days>=0]\n",
    "    min_deltatime = diff_days.min()\n",
    "    input_day = hd + pd.Timedelta(days=min_deltatime)\n",
    "    input_days.append(input_day)\n",
    "harvest_df_raw[\"input_date\"] = input_days"
   ]
  },
  {
   "cell_type": "code",
   "execution_count": 37,
   "metadata": {},
   "outputs": [],
   "source": [
    "harvest_df_test = pd.merge(harvest_df_raw, valid_test_df)\n",
    "harvest_df_date = pd.merge(harvest_df_raw, date_df)"
   ]
  },
  {
   "cell_type": "code",
   "execution_count": 38,
   "metadata": {},
   "outputs": [],
   "source": [
    "harvest_df_max = harvest_df_test.iloc[:,:4].copy()"
   ]
  },
  {
   "cell_type": "code",
   "execution_count": 39,
   "metadata": {},
   "outputs": [],
   "source": [
    "# 最大の日と価格の計算\n",
    "max_prices = []\n",
    "max_dates = []\n",
    "\n",
    "for hdt in harvest_df_test.index:\n",
    "    max_price = np.max(harvest_df_test.iloc[hdt, 4:])\n",
    "    max_date = harvest_df_date.iloc[hdt, np.argmax(harvest_df_test.iloc[hdt, 4:]) + 4]\n",
    "    max_prices.append(max_price)\n",
    "    max_dates.append(max_date)"
   ]
  },
  {
   "cell_type": "code",
   "execution_count": 40,
   "metadata": {},
   "outputs": [],
   "source": [
    "harvest_df_max[\"max_price\"] = max_prices\n",
    "harvest_df_max[\"max_date\"] = max_dates"
   ]
  },
  {
   "cell_type": "code",
   "execution_count": 41,
   "metadata": {},
   "outputs": [
    {
     "data": {
      "text/plain": [
       "[1987, 2023]"
      ]
     },
     "execution_count": 41,
     "metadata": {},
     "output_type": "execute_result"
    }
   ],
   "source": [
    "max_prices[:2]"
   ]
  },
  {
   "cell_type": "code",
   "execution_count": 42,
   "metadata": {},
   "outputs": [
    {
     "data": {
      "text/plain": [
       "[Timestamp('2020-12-05 00:00:00'), Timestamp('2020-12-17 00:00:00')]"
      ]
     },
     "execution_count": 42,
     "metadata": {},
     "output_type": "execute_result"
    }
   ],
   "source": [
    "max_dates[:2]"
   ]
  },
  {
   "cell_type": "markdown",
   "metadata": {},
   "source": [
    "一致！！"
   ]
  },
  {
   "cell_type": "code",
   "execution_count": 43,
   "metadata": {},
   "outputs": [],
   "source": [
    "# 収穫可能日から取引日までの日数\n",
    "harvest_df_max[\"day_delta\"] = harvest_df_max[\"max_date\"] - harvest_df_max[\"date\"]"
   ]
  },
  {
   "cell_type": "code",
   "execution_count": 44,
   "metadata": {},
   "outputs": [
    {
     "data": {
      "text/html": [
       "<div>\n",
       "<style scoped>\n",
       "    .dataframe tbody tr th:only-of-type {\n",
       "        vertical-align: middle;\n",
       "    }\n",
       "\n",
       "    .dataframe tbody tr th {\n",
       "        vertical-align: top;\n",
       "    }\n",
       "\n",
       "    .dataframe thead th {\n",
       "        text-align: right;\n",
       "    }\n",
       "</style>\n",
       "<table border=\"1\" class=\"dataframe\">\n",
       "  <thead>\n",
       "    <tr style=\"text-align: right;\">\n",
       "      <th></th>\n",
       "      <th>h0</th>\n",
       "      <th>h1</th>\n",
       "      <th>date</th>\n",
       "      <th>input_date</th>\n",
       "      <th>max_price</th>\n",
       "      <th>max_date</th>\n",
       "      <th>day_delta</th>\n",
       "    </tr>\n",
       "  </thead>\n",
       "  <tbody>\n",
       "    <tr>\n",
       "      <th>0</th>\n",
       "      <td>0</td>\n",
       "      <td>71</td>\n",
       "      <td>2020-11-29</td>\n",
       "      <td>2020-11-30</td>\n",
       "      <td>1987</td>\n",
       "      <td>2020-12-05</td>\n",
       "      <td>6 days</td>\n",
       "    </tr>\n",
       "    <tr>\n",
       "      <th>1</th>\n",
       "      <td>3</td>\n",
       "      <td>157</td>\n",
       "      <td>2020-12-06</td>\n",
       "      <td>2020-12-07</td>\n",
       "      <td>2023</td>\n",
       "      <td>2020-12-17</td>\n",
       "      <td>11 days</td>\n",
       "    </tr>\n",
       "    <tr>\n",
       "      <th>2</th>\n",
       "      <td>145</td>\n",
       "      <td>501</td>\n",
       "      <td>2020-12-13</td>\n",
       "      <td>2020-12-14</td>\n",
       "      <td>2312</td>\n",
       "      <td>2020-12-22</td>\n",
       "      <td>9 days</td>\n",
       "    </tr>\n",
       "    <tr>\n",
       "      <th>3</th>\n",
       "      <td>139</td>\n",
       "      <td>445</td>\n",
       "      <td>2020-12-20</td>\n",
       "      <td>2020-12-21</td>\n",
       "      <td>2165</td>\n",
       "      <td>2020-12-30</td>\n",
       "      <td>10 days</td>\n",
       "    </tr>\n",
       "    <tr>\n",
       "      <th>4</th>\n",
       "      <td>596</td>\n",
       "      <td>347</td>\n",
       "      <td>2020-12-27</td>\n",
       "      <td>2020-12-27</td>\n",
       "      <td>1670</td>\n",
       "      <td>2021-01-05</td>\n",
       "      <td>9 days</td>\n",
       "    </tr>\n",
       "    <tr>\n",
       "      <th>5</th>\n",
       "      <td>451</td>\n",
       "      <td>609</td>\n",
       "      <td>2021-01-03</td>\n",
       "      <td>2021-01-05</td>\n",
       "      <td>1528</td>\n",
       "      <td>2021-01-14</td>\n",
       "      <td>11 days</td>\n",
       "    </tr>\n",
       "    <tr>\n",
       "      <th>6</th>\n",
       "      <td>574</td>\n",
       "      <td>314</td>\n",
       "      <td>2021-01-10</td>\n",
       "      <td>2021-01-11</td>\n",
       "      <td>1520</td>\n",
       "      <td>2021-01-16</td>\n",
       "      <td>6 days</td>\n",
       "    </tr>\n",
       "    <tr>\n",
       "      <th>7</th>\n",
       "      <td>637</td>\n",
       "      <td>809</td>\n",
       "      <td>2021-01-17</td>\n",
       "      <td>2021-01-18</td>\n",
       "      <td>1481</td>\n",
       "      <td>2021-01-22</td>\n",
       "      <td>5 days</td>\n",
       "    </tr>\n",
       "    <tr>\n",
       "      <th>8</th>\n",
       "      <td>661</td>\n",
       "      <td>587</td>\n",
       "      <td>2021-01-24</td>\n",
       "      <td>2021-01-25</td>\n",
       "      <td>1468</td>\n",
       "      <td>2021-01-30</td>\n",
       "      <td>6 days</td>\n",
       "    </tr>\n",
       "    <tr>\n",
       "      <th>9</th>\n",
       "      <td>654</td>\n",
       "      <td>817</td>\n",
       "      <td>2021-01-31</td>\n",
       "      <td>2021-02-01</td>\n",
       "      <td>1543</td>\n",
       "      <td>2021-02-11</td>\n",
       "      <td>11 days</td>\n",
       "    </tr>\n",
       "    <tr>\n",
       "      <th>10</th>\n",
       "      <td>677</td>\n",
       "      <td>513</td>\n",
       "      <td>2021-02-07</td>\n",
       "      <td>2021-02-08</td>\n",
       "      <td>1461</td>\n",
       "      <td>2021-02-13</td>\n",
       "      <td>6 days</td>\n",
       "    </tr>\n",
       "    <tr>\n",
       "      <th>11</th>\n",
       "      <td>850</td>\n",
       "      <td>295</td>\n",
       "      <td>2021-02-14</td>\n",
       "      <td>2021-02-15</td>\n",
       "      <td>1575</td>\n",
       "      <td>2021-02-23</td>\n",
       "      <td>9 days</td>\n",
       "    </tr>\n",
       "    <tr>\n",
       "      <th>12</th>\n",
       "      <td>603</td>\n",
       "      <td>433</td>\n",
       "      <td>2021-02-21</td>\n",
       "      <td>2021-02-22</td>\n",
       "      <td>1507</td>\n",
       "      <td>2021-03-02</td>\n",
       "      <td>9 days</td>\n",
       "    </tr>\n",
       "    <tr>\n",
       "      <th>13</th>\n",
       "      <td>324</td>\n",
       "      <td>557</td>\n",
       "      <td>2021-02-28</td>\n",
       "      <td>2021-03-01</td>\n",
       "      <td>1480</td>\n",
       "      <td>2021-03-05</td>\n",
       "      <td>5 days</td>\n",
       "    </tr>\n",
       "    <tr>\n",
       "      <th>14</th>\n",
       "      <td>666</td>\n",
       "      <td>421</td>\n",
       "      <td>2021-03-07</td>\n",
       "      <td>2021-03-08</td>\n",
       "      <td>1455</td>\n",
       "      <td>2021-03-16</td>\n",
       "      <td>9 days</td>\n",
       "    </tr>\n",
       "    <tr>\n",
       "      <th>15</th>\n",
       "      <td>609</td>\n",
       "      <td>552</td>\n",
       "      <td>2021-03-14</td>\n",
       "      <td>2021-03-15</td>\n",
       "      <td>1437</td>\n",
       "      <td>2021-03-19</td>\n",
       "      <td>5 days</td>\n",
       "    </tr>\n",
       "    <tr>\n",
       "      <th>16</th>\n",
       "      <td>409</td>\n",
       "      <td>379</td>\n",
       "      <td>2021-03-21</td>\n",
       "      <td>2021-03-22</td>\n",
       "      <td>1321</td>\n",
       "      <td>2021-03-26</td>\n",
       "      <td>5 days</td>\n",
       "    </tr>\n",
       "    <tr>\n",
       "      <th>17</th>\n",
       "      <td>351</td>\n",
       "      <td>559</td>\n",
       "      <td>2021-03-28</td>\n",
       "      <td>2021-03-29</td>\n",
       "      <td>1140</td>\n",
       "      <td>2021-04-02</td>\n",
       "      <td>5 days</td>\n",
       "    </tr>\n",
       "    <tr>\n",
       "      <th>18</th>\n",
       "      <td>474</td>\n",
       "      <td>260</td>\n",
       "      <td>2021-04-04</td>\n",
       "      <td>2021-04-05</td>\n",
       "      <td>1027</td>\n",
       "      <td>2021-04-13</td>\n",
       "      <td>9 days</td>\n",
       "    </tr>\n",
       "    <tr>\n",
       "      <th>19</th>\n",
       "      <td>239</td>\n",
       "      <td>702</td>\n",
       "      <td>2021-04-11</td>\n",
       "      <td>2021-04-12</td>\n",
       "      <td>1059</td>\n",
       "      <td>2021-04-20</td>\n",
       "      <td>9 days</td>\n",
       "    </tr>\n",
       "    <tr>\n",
       "      <th>20</th>\n",
       "      <td>680</td>\n",
       "      <td>612</td>\n",
       "      <td>2021-04-18</td>\n",
       "      <td>2021-04-19</td>\n",
       "      <td>1070</td>\n",
       "      <td>2021-04-27</td>\n",
       "      <td>9 days</td>\n",
       "    </tr>\n",
       "    <tr>\n",
       "      <th>21</th>\n",
       "      <td>801</td>\n",
       "      <td>513</td>\n",
       "      <td>2021-04-25</td>\n",
       "      <td>2021-04-26</td>\n",
       "      <td>1108</td>\n",
       "      <td>2021-05-05</td>\n",
       "      <td>10 days</td>\n",
       "    </tr>\n",
       "    <tr>\n",
       "      <th>22</th>\n",
       "      <td>580</td>\n",
       "      <td>430</td>\n",
       "      <td>2021-05-02</td>\n",
       "      <td>2021-05-03</td>\n",
       "      <td>1084</td>\n",
       "      <td>2021-05-08</td>\n",
       "      <td>6 days</td>\n",
       "    </tr>\n",
       "    <tr>\n",
       "      <th>23</th>\n",
       "      <td>574</td>\n",
       "      <td>627</td>\n",
       "      <td>2021-05-09</td>\n",
       "      <td>2021-05-10</td>\n",
       "      <td>998</td>\n",
       "      <td>2021-05-14</td>\n",
       "      <td>5 days</td>\n",
       "    </tr>\n",
       "    <tr>\n",
       "      <th>24</th>\n",
       "      <td>290</td>\n",
       "      <td>877</td>\n",
       "      <td>2021-05-16</td>\n",
       "      <td>2021-05-17</td>\n",
       "      <td>902</td>\n",
       "      <td>2021-05-25</td>\n",
       "      <td>9 days</td>\n",
       "    </tr>\n",
       "    <tr>\n",
       "      <th>25</th>\n",
       "      <td>881</td>\n",
       "      <td>687</td>\n",
       "      <td>2021-05-23</td>\n",
       "      <td>2021-05-24</td>\n",
       "      <td>963</td>\n",
       "      <td>2021-06-01</td>\n",
       "      <td>9 days</td>\n",
       "    </tr>\n",
       "    <tr>\n",
       "      <th>26</th>\n",
       "      <td>587</td>\n",
       "      <td>540</td>\n",
       "      <td>2021-05-30</td>\n",
       "      <td>2021-05-31</td>\n",
       "      <td>1076</td>\n",
       "      <td>2021-06-10</td>\n",
       "      <td>11 days</td>\n",
       "    </tr>\n",
       "    <tr>\n",
       "      <th>27</th>\n",
       "      <td>744</td>\n",
       "      <td>285</td>\n",
       "      <td>2021-06-06</td>\n",
       "      <td>2021-06-07</td>\n",
       "      <td>1387</td>\n",
       "      <td>2021-06-17</td>\n",
       "      <td>11 days</td>\n",
       "    </tr>\n",
       "    <tr>\n",
       "      <th>28</th>\n",
       "      <td>283</td>\n",
       "      <td>134</td>\n",
       "      <td>2021-06-13</td>\n",
       "      <td>2021-06-14</td>\n",
       "      <td>1581</td>\n",
       "      <td>2021-06-24</td>\n",
       "      <td>11 days</td>\n",
       "    </tr>\n",
       "    <tr>\n",
       "      <th>29</th>\n",
       "      <td>288</td>\n",
       "      <td>0</td>\n",
       "      <td>2021-06-20</td>\n",
       "      <td>2021-06-21</td>\n",
       "      <td>1838</td>\n",
       "      <td>2021-07-01</td>\n",
       "      <td>11 days</td>\n",
       "    </tr>\n",
       "  </tbody>\n",
       "</table>\n",
       "</div>"
      ],
      "text/plain": [
       "     h0   h1       date input_date  max_price   max_date day_delta\n",
       "0     0   71 2020-11-29 2020-11-30       1987 2020-12-05    6 days\n",
       "1     3  157 2020-12-06 2020-12-07       2023 2020-12-17   11 days\n",
       "2   145  501 2020-12-13 2020-12-14       2312 2020-12-22    9 days\n",
       "3   139  445 2020-12-20 2020-12-21       2165 2020-12-30   10 days\n",
       "4   596  347 2020-12-27 2020-12-27       1670 2021-01-05    9 days\n",
       "5   451  609 2021-01-03 2021-01-05       1528 2021-01-14   11 days\n",
       "6   574  314 2021-01-10 2021-01-11       1520 2021-01-16    6 days\n",
       "7   637  809 2021-01-17 2021-01-18       1481 2021-01-22    5 days\n",
       "8   661  587 2021-01-24 2021-01-25       1468 2021-01-30    6 days\n",
       "9   654  817 2021-01-31 2021-02-01       1543 2021-02-11   11 days\n",
       "10  677  513 2021-02-07 2021-02-08       1461 2021-02-13    6 days\n",
       "11  850  295 2021-02-14 2021-02-15       1575 2021-02-23    9 days\n",
       "12  603  433 2021-02-21 2021-02-22       1507 2021-03-02    9 days\n",
       "13  324  557 2021-02-28 2021-03-01       1480 2021-03-05    5 days\n",
       "14  666  421 2021-03-07 2021-03-08       1455 2021-03-16    9 days\n",
       "15  609  552 2021-03-14 2021-03-15       1437 2021-03-19    5 days\n",
       "16  409  379 2021-03-21 2021-03-22       1321 2021-03-26    5 days\n",
       "17  351  559 2021-03-28 2021-03-29       1140 2021-04-02    5 days\n",
       "18  474  260 2021-04-04 2021-04-05       1027 2021-04-13    9 days\n",
       "19  239  702 2021-04-11 2021-04-12       1059 2021-04-20    9 days\n",
       "20  680  612 2021-04-18 2021-04-19       1070 2021-04-27    9 days\n",
       "21  801  513 2021-04-25 2021-04-26       1108 2021-05-05   10 days\n",
       "22  580  430 2021-05-02 2021-05-03       1084 2021-05-08    6 days\n",
       "23  574  627 2021-05-09 2021-05-10        998 2021-05-14    5 days\n",
       "24  290  877 2021-05-16 2021-05-17        902 2021-05-25    9 days\n",
       "25  881  687 2021-05-23 2021-05-24        963 2021-06-01    9 days\n",
       "26  587  540 2021-05-30 2021-05-31       1076 2021-06-10   11 days\n",
       "27  744  285 2021-06-06 2021-06-07       1387 2021-06-17   11 days\n",
       "28  283  134 2021-06-13 2021-06-14       1581 2021-06-24   11 days\n",
       "29  288    0 2021-06-20 2021-06-21       1838 2021-07-01   11 days"
      ]
     },
     "execution_count": 44,
     "metadata": {},
     "output_type": "execute_result"
    }
   ],
   "source": [
    "harvest_df_max"
   ]
  },
  {
   "cell_type": "markdown",
   "metadata": {},
   "source": [
    "収穫可能日が予測データにない場合，10日を超える部分も存在"
   ]
  },
  {
   "cell_type": "code",
   "execution_count": 45,
   "metadata": {},
   "outputs": [],
   "source": [
    "# 利益計算\n",
    "harvest_df_max[\"h0_profit\"] = harvest_df_max[\"h0\"] * harvest_df_max[\"max_price\"]\n",
    "harvest_df_max[\"h1_profit\"] = harvest_df_max[\"h1\"] * harvest_df_max[\"max_price\"]"
   ]
  },
  {
   "cell_type": "code",
   "execution_count": 46,
   "metadata": {},
   "outputs": [
    {
     "name": "stdout",
     "output_type": "stream",
     "text": [
      "profit of h0:  19929588\n",
      "profit of h1:  19089302\n"
     ]
    }
   ],
   "source": [
    "h0_profit_max = harvest_df_max[\"h0_profit\"].sum()\n",
    "h1_profit_max = harvest_df_max[\"h1_profit\"].sum()\n",
    "\n",
    "print(\"profit of h0: \", harvest_df_max[\"h0_profit\"].sum())\n",
    "print(\"profit of h1: \", harvest_df_max[\"h1_profit\"].sum())"
   ]
  },
  {
   "cell_type": "markdown",
   "metadata": {},
   "source": [
    "## 固定日データの作成\n",
    "区間から最も近い1日目に合わせて出荷"
   ]
  },
  {
   "cell_type": "code",
   "execution_count": 47,
   "metadata": {},
   "outputs": [],
   "source": [
    "harvest_df_test = pd.merge(harvest_df_raw, valid_test_df)\n",
    "harvest_df_date = pd.merge(harvest_df_raw, date_df)"
   ]
  },
  {
   "cell_type": "code",
   "execution_count": 48,
   "metadata": {},
   "outputs": [],
   "source": [
    "harvest_df_fix = harvest_df_test.iloc[:,:4].copy()"
   ]
  },
  {
   "cell_type": "code",
   "execution_count": 49,
   "metadata": {},
   "outputs": [],
   "source": [
    "fix_prices = []\n",
    "fix_dates = []\n",
    "\n",
    "for hdt in harvest_df_test.index:\n",
    "    fix_price = harvest_df_test.iloc[hdt, 4:][harvest_df_test.iloc[hdt, 4:]>0][0]\n",
    "    fix_output = harvest_df_test.iloc[hdt, 4:][harvest_df_test.iloc[hdt, 4:]>0].index[0]\n",
    "    fix_date = harvest_df_date.iloc[hdt][fix_output]\n",
    "    fix_prices.append(fix_price)\n",
    "    fix_dates.append(fix_date)"
   ]
  },
  {
   "cell_type": "code",
   "execution_count": 50,
   "metadata": {},
   "outputs": [],
   "source": [
    "harvest_df_fix[\"fix_price\"] = fix_prices\n",
    "harvest_df_fix[\"fix_date\"] = fix_dates"
   ]
  },
  {
   "cell_type": "code",
   "execution_count": 51,
   "metadata": {},
   "outputs": [
    {
     "data": {
      "text/html": [
       "<div>\n",
       "<style scoped>\n",
       "    .dataframe tbody tr th:only-of-type {\n",
       "        vertical-align: middle;\n",
       "    }\n",
       "\n",
       "    .dataframe tbody tr th {\n",
       "        vertical-align: top;\n",
       "    }\n",
       "\n",
       "    .dataframe thead th {\n",
       "        text-align: right;\n",
       "    }\n",
       "</style>\n",
       "<table border=\"1\" class=\"dataframe\">\n",
       "  <thead>\n",
       "    <tr style=\"text-align: right;\">\n",
       "      <th></th>\n",
       "      <th>h0</th>\n",
       "      <th>h1</th>\n",
       "      <th>date</th>\n",
       "      <th>input_date</th>\n",
       "      <th>output1</th>\n",
       "      <th>output2</th>\n",
       "      <th>output3</th>\n",
       "      <th>output4</th>\n",
       "      <th>output5</th>\n",
       "      <th>output6</th>\n",
       "      <th>output7</th>\n",
       "      <th>output8</th>\n",
       "      <th>output9</th>\n",
       "      <th>output10</th>\n",
       "    </tr>\n",
       "  </thead>\n",
       "  <tbody>\n",
       "    <tr>\n",
       "      <th>0</th>\n",
       "      <td>0</td>\n",
       "      <td>71</td>\n",
       "      <td>2020-11-29</td>\n",
       "      <td>2020-11-30</td>\n",
       "      <td>2020-12-01</td>\n",
       "      <td>2020-12-03</td>\n",
       "      <td>2020-12-04</td>\n",
       "      <td>2020-12-05</td>\n",
       "      <td>2020-12-07</td>\n",
       "      <td>2020-12-08</td>\n",
       "      <td>2020-12-10</td>\n",
       "      <td>2020-12-11</td>\n",
       "      <td>2020-12-12</td>\n",
       "      <td>2020-12-14</td>\n",
       "    </tr>\n",
       "    <tr>\n",
       "      <th>1</th>\n",
       "      <td>3</td>\n",
       "      <td>157</td>\n",
       "      <td>2020-12-06</td>\n",
       "      <td>2020-12-07</td>\n",
       "      <td>2020-12-08</td>\n",
       "      <td>2020-12-10</td>\n",
       "      <td>2020-12-11</td>\n",
       "      <td>2020-12-12</td>\n",
       "      <td>2020-12-14</td>\n",
       "      <td>2020-12-15</td>\n",
       "      <td>2020-12-17</td>\n",
       "      <td>2020-12-18</td>\n",
       "      <td>2020-12-19</td>\n",
       "      <td>2020-12-21</td>\n",
       "    </tr>\n",
       "  </tbody>\n",
       "</table>\n",
       "</div>"
      ],
      "text/plain": [
       "   h0   h1       date input_date    output1    output2    output3    output4  \\\n",
       "0   0   71 2020-11-29 2020-11-30 2020-12-01 2020-12-03 2020-12-04 2020-12-05   \n",
       "1   3  157 2020-12-06 2020-12-07 2020-12-08 2020-12-10 2020-12-11 2020-12-12   \n",
       "\n",
       "     output5    output6    output7    output8    output9   output10  \n",
       "0 2020-12-07 2020-12-08 2020-12-10 2020-12-11 2020-12-12 2020-12-14  \n",
       "1 2020-12-14 2020-12-15 2020-12-17 2020-12-18 2020-12-19 2020-12-21  "
      ]
     },
     "execution_count": 51,
     "metadata": {},
     "output_type": "execute_result"
    }
   ],
   "source": [
    "harvest_df_date.iloc[:2]"
   ]
  },
  {
   "cell_type": "code",
   "execution_count": 52,
   "metadata": {},
   "outputs": [
    {
     "data": {
      "text/html": [
       "<div>\n",
       "<style scoped>\n",
       "    .dataframe tbody tr th:only-of-type {\n",
       "        vertical-align: middle;\n",
       "    }\n",
       "\n",
       "    .dataframe tbody tr th {\n",
       "        vertical-align: top;\n",
       "    }\n",
       "\n",
       "    .dataframe thead th {\n",
       "        text-align: right;\n",
       "    }\n",
       "</style>\n",
       "<table border=\"1\" class=\"dataframe\">\n",
       "  <thead>\n",
       "    <tr style=\"text-align: right;\">\n",
       "      <th></th>\n",
       "      <th>h0</th>\n",
       "      <th>h1</th>\n",
       "      <th>date</th>\n",
       "      <th>input_date</th>\n",
       "      <th>output1</th>\n",
       "      <th>output2</th>\n",
       "      <th>output3</th>\n",
       "      <th>output4</th>\n",
       "      <th>output5</th>\n",
       "      <th>output6</th>\n",
       "      <th>output7</th>\n",
       "      <th>output8</th>\n",
       "      <th>output9</th>\n",
       "      <th>output10</th>\n",
       "    </tr>\n",
       "  </thead>\n",
       "  <tbody>\n",
       "    <tr>\n",
       "      <th>0</th>\n",
       "      <td>0</td>\n",
       "      <td>71</td>\n",
       "      <td>2020-11-29</td>\n",
       "      <td>2020-11-30</td>\n",
       "      <td>0</td>\n",
       "      <td>0</td>\n",
       "      <td>1969</td>\n",
       "      <td>1987</td>\n",
       "      <td>1964</td>\n",
       "      <td>1945</td>\n",
       "      <td>1913</td>\n",
       "      <td>0</td>\n",
       "      <td>0</td>\n",
       "      <td>0</td>\n",
       "    </tr>\n",
       "    <tr>\n",
       "      <th>1</th>\n",
       "      <td>3</td>\n",
       "      <td>157</td>\n",
       "      <td>2020-12-06</td>\n",
       "      <td>2020-12-07</td>\n",
       "      <td>0</td>\n",
       "      <td>0</td>\n",
       "      <td>1949</td>\n",
       "      <td>1927</td>\n",
       "      <td>1967</td>\n",
       "      <td>1996</td>\n",
       "      <td>2023</td>\n",
       "      <td>0</td>\n",
       "      <td>0</td>\n",
       "      <td>0</td>\n",
       "    </tr>\n",
       "  </tbody>\n",
       "</table>\n",
       "</div>"
      ],
      "text/plain": [
       "   h0   h1       date input_date  output1  output2  output3  output4  output5  \\\n",
       "0   0   71 2020-11-29 2020-11-30        0        0     1969     1987     1964   \n",
       "1   3  157 2020-12-06 2020-12-07        0        0     1949     1927     1967   \n",
       "\n",
       "   output6  output7  output8  output9  output10  \n",
       "0     1945     1913        0        0         0  \n",
       "1     1996     2023        0        0         0  "
      ]
     },
     "execution_count": 52,
     "metadata": {},
     "output_type": "execute_result"
    }
   ],
   "source": [
    "harvest_df_test.iloc[:2]"
   ]
  },
  {
   "cell_type": "code",
   "execution_count": 53,
   "metadata": {},
   "outputs": [
    {
     "data": {
      "text/plain": [
       "[1969, 1949]"
      ]
     },
     "execution_count": 53,
     "metadata": {},
     "output_type": "execute_result"
    }
   ],
   "source": [
    "fix_prices[:2]"
   ]
  },
  {
   "cell_type": "code",
   "execution_count": 54,
   "metadata": {},
   "outputs": [
    {
     "data": {
      "text/plain": [
       "[Timestamp('2020-12-04 00:00:00'), Timestamp('2020-12-11 00:00:00')]"
      ]
     },
     "execution_count": 54,
     "metadata": {},
     "output_type": "execute_result"
    }
   ],
   "source": [
    "fix_dates[:2]"
   ]
  },
  {
   "cell_type": "markdown",
   "metadata": {},
   "source": [
    "一致！！"
   ]
  },
  {
   "cell_type": "code",
   "execution_count": 55,
   "metadata": {},
   "outputs": [],
   "source": [
    "# 収穫可能日から取引日までの日数\n",
    "harvest_df_fix[\"day_delta\"] = harvest_df_fix[\"fix_date\"] - harvest_df_fix[\"date\"]"
   ]
  },
  {
   "cell_type": "code",
   "execution_count": 56,
   "metadata": {},
   "outputs": [],
   "source": [
    "# 利益計算\n",
    "harvest_df_fix[\"h0_profit\"] = harvest_df_fix[\"h0\"] * harvest_df_fix[\"fix_price\"]\n",
    "harvest_df_fix[\"h1_profit\"] = harvest_df_fix[\"h1\"] * harvest_df_fix[\"fix_price\"]"
   ]
  },
  {
   "cell_type": "code",
   "execution_count": 57,
   "metadata": {},
   "outputs": [
    {
     "name": "stdout",
     "output_type": "stream",
     "text": [
      "profit of h0:  19106947\n",
      "profit of h1:  18476805\n"
     ]
    }
   ],
   "source": [
    "h0_profit_fix = harvest_df_fix[\"h0_profit\"].sum()\n",
    "h1_profit_fix = harvest_df_fix[\"h1_profit\"].sum()\n",
    "\n",
    "print(\"profit of h0: \", harvest_df_fix[\"h0_profit\"].sum())\n",
    "print(\"profit of h1: \", harvest_df_fix[\"h1_profit\"].sum())"
   ]
  },
  {
   "cell_type": "markdown",
   "metadata": {},
   "source": [
    "## 提案手法データの作成\n",
    "y_pred_maxに合わせて出荷"
   ]
  },
  {
   "cell_type": "code",
   "execution_count": null,
   "metadata": {},
   "outputs": [],
   "source": []
  }
 ],
 "metadata": {
  "interpreter": {
   "hash": "d70addf49fbb3c3614f48dcff396667e5a56b96196da3693d4da6ea85751bdb1"
  },
  "kernelspec": {
   "display_name": "Python 3.8.5 64-bit ('anaconda3-2020.11': pyenv)",
   "language": "python",
   "name": "python3"
  },
  "language_info": {
   "codemirror_mode": {
    "name": "ipython",
    "version": 3
   },
   "file_extension": ".py",
   "mimetype": "text/x-python",
   "name": "python",
   "nbconvert_exporter": "python",
   "pygments_lexer": "ipython3",
   "version": "3.8.8"
  },
  "orig_nbformat": 4
 },
 "nbformat": 4,
 "nbformat_minor": 2
}
