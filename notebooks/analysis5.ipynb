{
 "cells": [
  {
   "cell_type": "markdown",
   "metadata": {},
   "source": [
    "# 売買シミュレーションに備えた実験\n",
    "- いちごの流通期間は 2~3日\n",
    "- 10日後の価格を予測することで、予測日から流通期間を引いた7日間から販売日を決定可能に"
   ]
  },
  {
   "cell_type": "code",
   "execution_count": 1,
   "metadata": {},
   "outputs": [],
   "source": [
    "import pandas as pd\n",
    "import numpy as np\n",
    "import seaborn as sns\n",
    "from sklearn.preprocessing import StandardScaler, MinMaxScaler\n",
    "from sklearn.metrics import mean_squared_error\n",
    "import matplotlib.pyplot as plt\n",
    "from sklearn.model_selection import train_test_split\n",
    "import japanize_matplotlib\n",
    "from sklearn.metrics import accuracy_score\n",
    "import lightgbm as lgb"
   ]
  },
  {
   "cell_type": "code",
   "execution_count": 2,
   "metadata": {},
   "outputs": [],
   "source": [
    "def root_mean_squared_error(y_pred, y_test):\n",
    "    return mean_squared_error(y_pred, y_test)**(1/2)"
   ]
  },
  {
   "cell_type": "code",
   "execution_count": 3,
   "metadata": {},
   "outputs": [],
   "source": [
    "df_raw = pd.read_csv(\"../data/kk.csv\")\n",
    "# 全体のみを利用(産地名NaN)\n",
    "is_nan = [df_raw[\"産地名\"][i] is df_raw[\"産地名\"][0] for i in range(df_raw.shape[0])]\n",
    "df = df_raw[is_nan].copy()\n",
    "del_columns = [\"産地名\", \"産地コード\", \"品目名\", \"品目コード\", \"対前日比（数量）\", \"対前日比（価格）\"]\n",
    "df = df.drop(del_columns, axis=1).copy()\n"
   ]
  },
  {
   "cell_type": "code",
   "execution_count": 4,
   "metadata": {},
   "outputs": [],
   "source": [
    "# 曜日の処理\n",
    "dow = [\"月\", \"火\", \"水\", \"木\", \"金\", \"土\", \"日\"]\n",
    "df[\"曜日\"] = [dow.index(dw) for dw in df[\"曜日\"]]\n"
   ]
  },
  {
   "cell_type": "code",
   "execution_count": 5,
   "metadata": {},
   "outputs": [],
   "source": [
    "# 日にちの処理\n",
    "# timestamp型 → timedelta\n",
    "# date_columns = [\"年\", \"月\", \"日\"]\n",
    "date = [str(df[\"年\"].iloc[i])+\"-\"+str(df[\"月\"].iloc[i])+\"-\" +\n",
    "        str(df[\"日\"].iloc[i]) for i in range(df.shape[0])]\n",
    "df[\"date\"] = pd.to_datetime(date)\n",
    "# df = df.drop(date_columns, axis=1).copy()\n",
    "df[\"days\"] = [(date - df[\"date\"][0]).days for date in df[\"date\"]]\n",
    "df = df.drop(\"date\", axis=1).copy()\n"
   ]
  },
  {
   "cell_type": "code",
   "execution_count": 6,
   "metadata": {},
   "outputs": [],
   "source": [
    "# 特異日 (天皇即位)\n",
    "outlier = df[df[\"価格\"].max() == df[\"価格\"]].index \n",
    "# df = df.drop(outlier, axis=0).copy()"
   ]
  },
  {
   "cell_type": "code",
   "execution_count": 7,
   "metadata": {},
   "outputs": [],
   "source": [
    "# 数量で重み付け\n",
    "def ma_weighted(price, df):\n",
    "    \"\"\"\n",
    "    Args:\n",
    "        price (df.rolling): df.rolling.apply()を想定した価格列\n",
    "        df: 重み列を取るための元df\n",
    "    return:\n",
    "        ma_w = 数量加重移動平均\n",
    "    \"\"\"\n",
    "\n",
    "    df_price = df.loc[price.index, '価格']\n",
    "    df_num = df.loc[price.index, '数量']\n",
    "    \n",
    "    ma_w = 0\n",
    "    for p, n in zip(df_price, df_num):\n",
    "        ma_w += n * p/df_num.sum()\n",
    "\n",
    "    return ma_w\n"
   ]
  },
  {
   "cell_type": "code",
   "execution_count": 8,
   "metadata": {},
   "outputs": [],
   "source": [
    "ma_w3 = df[\"価格\"].rolling(3).apply(ma_weighted, args=(df,), raw=False)\n",
    "ma_w5 = df[\"価格\"].rolling(5).apply(ma_weighted, args=(df,), raw=False)\n",
    "ma_w7 = df[\"価格\"].rolling(7).apply(ma_weighted, args=(df,), raw=False)\n"
   ]
  },
  {
   "cell_type": "code",
   "execution_count": 9,
   "metadata": {},
   "outputs": [],
   "source": [
    "# train-test-split\n",
    "# 7年分をtrain，3年分をtest(index 9426以上)\n",
    "ma_w5 = ma_w5.dropna()\n",
    "df_train = ma_w5[ma_w5.index < 9426].copy()\n",
    "df_test = ma_w5[ma_w5.index >= 9426].copy()\n"
   ]
  },
  {
   "cell_type": "code",
   "execution_count": 10,
   "metadata": {},
   "outputs": [],
   "source": [
    "date_train_raw = df.loc[df_train.index, [\"年\", \"月\", \"日\", \"曜日\"]].copy()\n",
    "date_test_raw = df.loc[df_test.index, [\"年\", \"月\", \"日\", \"曜日\"]].copy()"
   ]
  },
  {
   "cell_type": "markdown",
   "metadata": {},
   "source": [
    "# 7 日分の予測"
   ]
  },
  {
   "cell_type": "code",
   "execution_count": 11,
   "metadata": {},
   "outputs": [],
   "source": [
    "# 学習データ作成\n",
    "# data = [4日後予測訓練データ, 5日後予測訓練データ, ..., 10日後予測訓練データ]\n",
    "\n",
    "span = 10\n",
    "data = []\n",
    "for sp in range(4,11):\n",
    "    n_train = df_train.shape[0] - sp - 6\n",
    "    X_train_idx = [np.array([0, 1, 2, 3, 4, 5, 6]) + i for i in range(n_train)]\n",
    "    y_train_idx = [i + sp + 6 for i in range(n_train)]\n",
    "\n",
    "    date_train_idx = [i + 6 for i in range(n_train)]\n",
    "\n",
    "    n_test = df_test.shape[0] - sp - 6\n",
    "    X_test_idx = [np.array([0, 1, 2, 3, 4, 5, 6]) + i for i in range(n_test)]\n",
    "    y_test_idx = [i + sp + 6 for i in range(n_test)]\n",
    "\n",
    "    date_test_idx = [i + 6 for i in range(n_test)]\n",
    "\n",
    "    X_train = np.array([df_train.iloc[xt_i].values for xt_i in X_train_idx])\n",
    "\n",
    "    y_train = np.array([df_train.iloc[yt_i] for yt_i in y_train_idx])\n",
    "\n",
    "    X_test = np.array([df_test.iloc[xt_i].values for xt_i in X_test_idx])\n",
    "    y_test = np.array([df_test.iloc[yt_i] for yt_i in y_test_idx])\n",
    "\n",
    "    X_train = pd.DataFrame(X_train, columns=np.arange(7))\n",
    "    X_test = pd.DataFrame(X_test, columns=np.arange(7))\n",
    "    y_train = pd.Series(y_train)\n",
    "    y_test = pd.Series(y_test)\n",
    "\n",
    "    date_train = date_train_raw.iloc[date_train_idx].reset_index(drop=True)\n",
    "    date_test = date_test_raw.iloc[date_test_idx].reset_index(drop=True)\n",
    "\n",
    "    X_train = pd.concat([X_train, date_train], axis=1)\n",
    "    X_test = pd.concat([X_test, date_test], axis=1)\n",
    "\n",
    "    data.append((X_train, X_test, y_train, y_test))"
   ]
  },
  {
   "cell_type": "code",
   "execution_count": 12,
   "metadata": {},
   "outputs": [
    {
     "name": "stdout",
     "output_type": "stream",
     "text": [
      "152.87335371530077\n",
      "0.04265687606131471\n",
      "167.42563249986372\n",
      "0.04898505031284628\n",
      "178.33708145843627\n",
      "0.056432169833098976\n",
      "187.275739116027\n",
      "0.06050149909514425\n",
      "192.52051982586158\n",
      "0.06181689322490505\n",
      "198.87448514492291\n",
      "0.06552261407165835\n",
      "208.60556557978728\n",
      "0.06955631357819869\n"
     ]
    }
   ],
   "source": [
    "# y_preds = [4日後予測データ, 5日後予測データ, ..., 10日後予測データ]\n",
    "y_preds = []\n",
    "for i in range(data.__len__()):\n",
    "    X_train, X_test, y_train, y_test = data[i][0], data[i][1], data[i][2], data[i][3]\n",
    "\n",
    "    model = lgb.LGBMRegressor(random_state=42)\n",
    "    model.fit(X_train, y_train)\n",
    "    y_pred = model.predict(X_test)\n",
    "\n",
    "    score = root_mean_squared_error(y_pred, y_test)\n",
    "    print(score)\n",
    "\n",
    "    ape = sum(abs((y_test-y_pred)/y_test))\n",
    "    mape = ape/y_test.shape[0]\n",
    "    print(mape)\n",
    "\n",
    "    y_preds.append(y_pred)"
   ]
  },
  {
   "cell_type": "markdown",
   "metadata": {},
   "source": [
    "## 最大値と予測した日が実際に最大だった割合（正解：移動平均）"
   ]
  },
  {
   "cell_type": "code",
   "execution_count": 111,
   "metadata": {},
   "outputs": [],
   "source": [
    "# テストデータ数を揃える\n",
    "y_preds_fix = []\n",
    "for p in y_preds:\n",
    "    y_preds_fix.append(p[:715])\n"
   ]
  },
  {
   "cell_type": "code",
   "execution_count": 112,
   "metadata": {},
   "outputs": [],
   "source": [
    "y_preds_fix = np.array(y_preds_fix).T"
   ]
  },
  {
   "cell_type": "code",
   "execution_count": 113,
   "metadata": {},
   "outputs": [],
   "source": [
    "y_preds_max = [np.argmax(ypf) for ypf in y_preds_fix]"
   ]
  },
  {
   "cell_type": "code",
   "execution_count": 114,
   "metadata": {},
   "outputs": [],
   "source": [
    "y_tests_fix = np.array([data[0][3][i:i+7].values for i in range(data[0][3].__len__()-6)])"
   ]
  },
  {
   "cell_type": "code",
   "execution_count": 115,
   "metadata": {},
   "outputs": [],
   "source": [
    "y_tests_max = [np.argmax(ytf) for ytf in y_tests_fix]"
   ]
  },
  {
   "cell_type": "code",
   "execution_count": 116,
   "metadata": {},
   "outputs": [
    {
     "data": {
      "text/plain": [
       "((715, 7), (715, 7))"
      ]
     },
     "execution_count": 116,
     "metadata": {},
     "output_type": "execute_result"
    }
   ],
   "source": [
    "y_preds_fix.shape, y_tests_fix.shape"
   ]
  },
  {
   "cell_type": "code",
   "execution_count": 120,
   "metadata": {},
   "outputs": [],
   "source": [
    "acc_roll = accuracy_score(y_preds_max, y_tests_max)"
   ]
  },
  {
   "cell_type": "markdown",
   "metadata": {},
   "source": [
    "## 元データとの比較"
   ]
  },
  {
   "cell_type": "code",
   "execution_count": 118,
   "metadata": {},
   "outputs": [],
   "source": [
    "# 移動平均とサイズを合わせるために最初4日分をドロップ\n",
    "df_for_compare = df[\"価格\"].iloc[4:]\n",
    "\n",
    "df_c_train = df_for_compare[df_for_compare.index < 9426].copy()\n",
    "df_c_test = df_for_compare[df_for_compare.index >= 9426].copy()\n",
    "\n",
    "date_c_train_raw = df.loc[df_c_train.index, [\"年\", \"月\", \"日\", \"曜日\"]].copy()\n",
    "date_c_test_raw = df.loc[df_c_test.index, [\"年\", \"月\", \"日\", \"曜日\"]].copy()\n",
    "\n",
    "data_c = []\n",
    "for sp in range(4,11):\n",
    "    n_c_train = df_c_train.shape[0] - sp - 6\n",
    "    X_c_train_idx = [np.array([0, 1, 2, 3, 4, 5, 6]) + i for i in range(n_c_train)]\n",
    "    y_c_train_idx = [i + sp + 6 for i in range(n_c_train)]\n",
    "\n",
    "    date_c_train_idx = [i + 6 for i in range(n_c_train)]\n",
    "\n",
    "    n_c_test = df_c_test.shape[0] - sp - 6\n",
    "    X_c_test_idx = [np.array([0, 1, 2, 3, 4, 5, 6]) + i for i in range(n_c_test)]\n",
    "    y_c_test_idx = [i + sp + 6 for i in range(n_c_test)]\n",
    "\n",
    "    date_c_test_idx = [i + 6 for i in range(n_c_test)]\n",
    "\n",
    "    X_c_train = np.array([df_c_train.iloc[xt_i].values for xt_i in X_c_train_idx])\n",
    "\n",
    "    y_c_train = np.array([df_c_train.iloc[yt_i] for yt_i in y_c_train_idx])\n",
    "\n",
    "    X_c_test = np.array([df_c_test.iloc[xt_i].values for xt_i in X_c_test_idx])\n",
    "    y_c_test = np.array([df_c_test.iloc[yt_i] for yt_i in y_c_test_idx])\n",
    "\n",
    "    X_c_train = pd.DataFrame(X_c_train, columns=np.arange(7))\n",
    "    X_c_test = pd.DataFrame(X_c_test, columns=np.arange(7))\n",
    "    y_c_train = pd.Series(y_c_train)\n",
    "    y_c_test = pd.Series(y_c_test)\n",
    "\n",
    "    date_c_train = date_c_train_raw.iloc[date_c_train_idx].reset_index(drop=True)\n",
    "    date_c_test = date_c_test_raw.iloc[date_c_test_idx].reset_index(drop=True)\n",
    "\n",
    "    X_c_train = pd.concat([X_c_train, date_c_train], axis=1)\n",
    "    X_c_test = pd.concat([X_c_test, date_c_test], axis=1)\n",
    "\n",
    "    data_c.append((X_c_train, X_c_test, y_c_train, y_c_test))\n",
    "\n",
    "y_c_tests_fix = np.array([data_c[0][3][i:i+7].values for i in range(data_c[0][3].__len__()-6)])\n",
    "y_c_tests_max = [np.argmax(ytf) for ytf in y_c_tests_fix]"
   ]
  },
  {
   "cell_type": "code",
   "execution_count": 121,
   "metadata": {},
   "outputs": [],
   "source": [
    "acc = accuracy_score(y_preds_max, y_c_tests_max)"
   ]
  },
  {
   "cell_type": "code",
   "execution_count": 122,
   "metadata": {},
   "outputs": [
    {
     "name": "stdout",
     "output_type": "stream",
     "text": [
      "acc roll:  0.4881118881118881\n",
      "acc:  0.3118881118881119\n",
      "diff:  0.17622377622377622\n"
     ]
    }
   ],
   "source": [
    "print(\"acc roll: \", acc_roll)\n",
    "print(\"acc: \", acc)\n",
    "print(\"diff: \", acc_roll - acc)"
   ]
  },
  {
   "cell_type": "markdown",
   "metadata": {},
   "source": [
    "10 %程度の精度低下\n",
    "\n",
    "→ 移動平均なので大幅な損失にはつながらない見込み"
   ]
  }
 ],
 "metadata": {
  "interpreter": {
   "hash": "31f2aee4e71d21fbe5cf8b01ff0e069b9275f58929596ceb00d14d90e3e16cd6"
  },
  "kernelspec": {
   "display_name": "Python 3.8.10 64-bit",
   "language": "python",
   "name": "python3"
  },
  "language_info": {
   "codemirror_mode": {
    "name": "ipython",
    "version": 3
   },
   "file_extension": ".py",
   "mimetype": "text/x-python",
   "name": "python",
   "nbconvert_exporter": "python",
   "pygments_lexer": "ipython3",
   "version": "3.8.5"
  },
  "orig_nbformat": 4
 },
 "nbformat": 4,
 "nbformat_minor": 2
}
