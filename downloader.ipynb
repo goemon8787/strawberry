{
 "cells": [
  {
   "cell_type": "code",
   "execution_count": 71,
   "metadata": {},
   "outputs": [],
   "source": [
    "from selenium import webdriver\n",
    "import chromedriver_binary\n",
    "from selenium.webdriver.support.select import Select\n",
    "import time"
   ]
  },
  {
   "cell_type": "code",
   "execution_count": 72,
   "metadata": {},
   "outputs": [],
   "source": [
    "driver = webdriver.Chrome()"
   ]
  },
  {
   "cell_type": "code",
   "execution_count": 73,
   "metadata": {},
   "outputs": [],
   "source": [
    "driver.get(\"https://www.seisen.maff.go.jp/seisen/bs04b040md001/BS04B040UC020SC001-Evt007.do\")"
   ]
  },
  {
   "cell_type": "code",
   "execution_count": 81,
   "metadata": {},
   "outputs": [],
   "source": [
    "select_temp = driver.find_element_by_xpath(\"/html/body/div/div[2]/div/form[1]/div/fieldset/table/tbody/tr/td/table/tbody/tr/td[1]/select\")\n",
    "select_year = Select(select_temp)\n",
    "select_temp = driver.find_element_by_xpath(\"/html/body/div/div[2]/div/form[1]/div/fieldset/table/tbody/tr/td/table/tbody/tr/td[2]/select\")\n",
    "select_month = Select(select_temp)\n",
    "select_temp = driver.find_element_by_xpath(\"/html/body/div/div[2]/div/form[1]/div/fieldset/table/tbody/tr/td/table/tbody/tr/td[3]/select\")\n",
    "select_num = Select(select_temp)"
   ]
  },
  {
   "cell_type": "code",
   "execution_count": 82,
   "metadata": {},
   "outputs": [],
   "source": [
    "element = driver.find_element_by_xpath(\"/html/body/div/div[2]/div/form[1]/div/fieldset/div/p/input[3]\")"
   ]
  },
  {
   "cell_type": "code",
   "execution_count": 83,
   "metadata": {},
   "outputs": [],
   "source": [
    "year_range = [option.text for option in select_year.options]\n",
    "month_range = [option.text for option in select_month.options]\n",
    "num_range = [option.text for option in select_num.options]"
   ]
  },
  {
   "cell_type": "code",
   "execution_count": 84,
   "metadata": {},
   "outputs": [],
   "source": [
    "year_range.remove('2021')"
   ]
  },
  {
   "cell_type": "code",
   "execution_count": 85,
   "metadata": {},
   "outputs": [],
   "source": [
    "for year in year_range:\n",
    "    select_year.select_by_visible_text(year)\n",
    "    for month in month_range:\n",
    "        select_month.select_by_visible_text(month)\n",
    "        for num in num_range:\n",
    "            select_num.select_by_visible_text(num)\n",
    "            element.click()\n",
    "            time.sleep(60)"
   ]
  },
  {
   "cell_type": "code",
   "execution_count": null,
   "metadata": {},
   "outputs": [],
   "source": []
  }
 ],
 "metadata": {
  "kernelspec": {
   "display_name": "Python 3",
   "language": "python",
   "name": "python3"
  },
  "language_info": {
   "codemirror_mode": {
    "name": "ipython",
    "version": 3
   },
   "file_extension": ".py",
   "mimetype": "text/x-python",
   "name": "python",
   "nbconvert_exporter": "python",
   "pygments_lexer": "ipython3",
   "version": "3.8.5"
  }
 },
 "nbformat": 4,
 "nbformat_minor": 4
}
