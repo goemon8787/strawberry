{
 "cells": [
  {
   "cell_type": "code",
   "execution_count": 51,
   "metadata": {},
   "outputs": [],
   "source": [
    "import codecs\n",
    "import pandas as pd"
   ]
  },
  {
   "cell_type": "code",
   "execution_count": 52,
   "metadata": {},
   "outputs": [],
   "source": [
    "with codecs.open(\"/home/yamashitakeisuke/Documents/strawberry/data/amedas/pr31/data0.csv\", \"r\", \"Shift-JIS\", \"ignore\") as bfile:\n",
    "        df = pd.read_table(\n",
    "            bfile, delimiter=',', skiprows=6, index_col=0, header=None)"
   ]
  },
  {
   "cell_type": "code",
   "execution_count": 53,
   "metadata": {},
   "outputs": [],
   "source": [
    "# 列名の読み取り\n",
    "with codecs.open(\"/home/yamashitakeisuke/Documents/strawberry/data/amedas/pr31/data0.csv\", \"r\", \"Shift-JIS\", \"ignore\") as bfile:\n",
    "    columns = bfile.readlines()\n",
    "columns = columns[:6]\n"
   ]
  },
  {
   "cell_type": "code",
   "execution_count": 54,
   "metadata": {},
   "outputs": [],
   "source": []
  },
  {
   "cell_type": "code",
   "execution_count": 55,
   "metadata": {},
   "outputs": [],
   "source": [
    "file_name = set(columns[2].split(','))\n",
    "file_name = list(file_name)[1]"
   ]
  },
  {
   "cell_type": "code",
   "execution_count": 57,
   "metadata": {},
   "outputs": [],
   "source": [
    "labels_set = sorted(list(set(columns[3].split(','))), key=columns[3].split(',').index)"
   ]
  },
  {
   "cell_type": "code",
   "execution_count": 58,
   "metadata": {},
   "outputs": [],
   "source": [
    "sub_labels = columns[5].split(',')"
   ]
  },
  {
   "cell_type": "code",
   "execution_count": 59,
   "metadata": {},
   "outputs": [
    {
     "data": {
      "text/plain": [
       "Int64Index([ 1,  2,  3,  4,  5,  6,  7,  8,  9, 10, 11, 12, 13, 14, 15, 16, 17,\n",
       "            18, 19, 20, 21, 22, 23, 24, 25, 26, 27, 28, 29, 30, 31, 32],\n",
       "           dtype='int64')"
      ]
     },
     "execution_count": 59,
     "metadata": {},
     "output_type": "execute_result"
    }
   ],
   "source": [
    "df.columns"
   ]
  },
  {
   "cell_type": "code",
   "execution_count": 60,
   "metadata": {},
   "outputs": [
    {
     "data": {
      "text/plain": [
       "33"
      ]
     },
     "execution_count": 60,
     "metadata": {},
     "output_type": "execute_result"
    }
   ],
   "source": [
    "len(sub_labels)"
   ]
  },
  {
   "cell_type": "code",
   "execution_count": 61,
   "metadata": {},
   "outputs": [],
   "source": [
    "labels = []\n",
    "for sl in sub_labels:\n",
    "    if sl=='':\n",
    "        labels.append(labels_set.pop(0))\n",
    "    else:\n",
    "        labels.append(sl)"
   ]
  },
  {
   "cell_type": "code",
   "execution_count": 62,
   "metadata": {},
   "outputs": [
    {
     "data": {
      "text/plain": [
       "['年月日',\n",
       " '平均気温(℃)',\n",
       " '品質情報',\n",
       " '均質番号',\n",
       " '最高気温(℃)',\n",
       " '品質情報',\n",
       " '均質番号',\n",
       " '最低気温(℃)',\n",
       " '品質情報',\n",
       " '均質番号',\n",
       " '降水量の合計(mm)',\n",
       " '現象なし情報',\n",
       " '品質情報',\n",
       " '均質番号',\n",
       " '日照時間(時間)',\n",
       " '現象なし情報',\n",
       " '品質情報',\n",
       " '均質番号',\n",
       " '合計全天日射量(MJ/u)',\n",
       " '品質情報',\n",
       " '均質番号',\n",
       " '平均蒸気圧(hPa)',\n",
       " '品質情報',\n",
       " '均質番号',\n",
       " '平均湿度(％)',\n",
       " '品質情報',\n",
       " '均質番号',\n",
       " '平均現地気圧(hPa)',\n",
       " '品質情報',\n",
       " '均質番号',\n",
       " '平均海面気圧(hPa)',\n",
       " '品質情報',\n",
       " '均質番号']"
      ]
     },
     "execution_count": 62,
     "metadata": {},
     "output_type": "execute_result"
    }
   ],
   "source": [
    "labels"
   ]
  },
  {
   "cell_type": "code",
   "execution_count": 63,
   "metadata": {},
   "outputs": [
    {
     "data": {
      "text/plain": [
       "33"
      ]
     },
     "execution_count": 63,
     "metadata": {},
     "output_type": "execute_result"
    }
   ],
   "source": [
    "len(labels)"
   ]
  },
  {
   "cell_type": "code",
   "execution_count": 66,
   "metadata": {},
   "outputs": [],
   "source": [
    "df.columns = labels[1:]"
   ]
  },
  {
   "cell_type": "code",
   "execution_count": 70,
   "metadata": {},
   "outputs": [],
   "source": [
    "df.index.name = labels[0]"
   ]
  },
  {
   "cell_type": "code",
   "execution_count": null,
   "metadata": {},
   "outputs": [],
   "source": []
  }
 ],
 "metadata": {
  "interpreter": {
   "hash": "d70addf49fbb3c3614f48dcff396667e5a56b96196da3693d4da6ea85751bdb1"
  },
  "kernelspec": {
   "display_name": "Python 3.8.5 64-bit ('anaconda3-2020.11': pyenv)",
   "name": "python3"
  },
  "language_info": {
   "codemirror_mode": {
    "name": "ipython",
    "version": 3
   },
   "file_extension": ".py",
   "mimetype": "text/x-python",
   "name": "python",
   "nbconvert_exporter": "python",
   "pygments_lexer": "ipython3",
   "version": "3.8.5"
  },
  "orig_nbformat": 4
 },
 "nbformat": 4,
 "nbformat_minor": 2
}
