{
 "cells": [
  {
   "cell_type": "code",
   "execution_count": 45,
   "metadata": {},
   "outputs": [],
   "source": [
    "import pandas as pd\n",
    "import numpy as np\n",
    "import os\n",
    "import shutil\n",
    "from natsort import natsorted"
   ]
  },
  {
   "cell_type": "code",
   "execution_count": 5,
   "metadata": {},
   "outputs": [],
   "source": [
    "base_path = \"/home/yamashitakeisuke/ドキュメント/strawberry/data/\""
   ]
  },
  {
   "cell_type": "code",
   "execution_count": 16,
   "metadata": {},
   "outputs": [],
   "source": [
    "kk_path = base_path + \"kk/\"\n",
    "kklist = natsorted(os.listdir(kk_path))"
   ]
  },
  {
   "cell_type": "code",
   "execution_count": 36,
   "metadata": {},
   "outputs": [],
   "source": [
    "all_df = pd.DataFrame([], columns=pd.read_csv(kk_path+kklist[0], encoding=\"shift_jis\").columns)\n",
    "for file in kklist:\n",
    "    df = pd.read_csv(kk_path+file, encoding=\"shift_jis\")\n",
    "    df = df[df[\"品目名\"]==\"いちご\"].copy()\n",
    "    all_df = pd.concat([all_df, df], axis=0)"
   ]
  },
  {
   "cell_type": "code",
   "execution_count": 40,
   "metadata": {},
   "outputs": [],
   "source": [
    "all_df.to_csv(base_path+\"kk.csv\", index=False)"
   ]
  },
  {
   "cell_type": "code",
   "execution_count": 56,
   "metadata": {},
   "outputs": [],
   "source": [
    "tk_path = base_path + \"tk/\"\n",
    "tklist = natsorted(os.listdir(tk_path))"
   ]
  },
  {
   "cell_type": "code",
   "execution_count": 61,
   "metadata": {},
   "outputs": [],
   "source": [
    "all_df = pd.DataFrame([], columns=pd.read_csv(tk_path+tklist[0], encoding=\"shift_jis\").columns)\n",
    "for file in tklist:\n",
    "    df = pd.read_csv(tk_path+file, encoding=\"shift_jis\")\n",
    "    df = df[df[\"品目名\"]==\"いちご\"].copy()\n",
    "    all_df = pd.concat([all_df, df], axis=0)"
   ]
  },
  {
   "cell_type": "code",
   "execution_count": 62,
   "metadata": {},
   "outputs": [],
   "source": [
    "all_df.to_csv(base_path+\"tk.csv\", index=False)"
   ]
  },
  {
   "cell_type": "code",
   "execution_count": null,
   "metadata": {},
   "outputs": [],
   "source": []
  }
 ],
 "metadata": {
  "kernelspec": {
   "display_name": "Python 3",
   "language": "python",
   "name": "python3"
  },
  "language_info": {
   "codemirror_mode": {
    "name": "ipython",
    "version": 3
   },
   "file_extension": ".py",
   "mimetype": "text/x-python",
   "name": "python",
   "nbconvert_exporter": "python",
   "pygments_lexer": "ipython3",
   "version": "3.8.5"
  }
 },
 "nbformat": 4,
 "nbformat_minor": 4
}
